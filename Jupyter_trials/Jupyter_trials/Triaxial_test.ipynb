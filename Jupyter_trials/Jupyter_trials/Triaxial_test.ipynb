{
 "cells": [
  {
   "cell_type": "code",
   "execution_count": 138,
   "id": "c2456e16",
   "metadata": {},
   "outputs": [],
   "source": [
    "import numpy as np\n",
    "import matplotlib.pyplot as plt\n",
    "import ipywidgets as widgets\n",
    "from IPython.display import display\n",
    "from ipywidgets import interactive"
   ]
  },
  {
   "cell_type": "code",
   "execution_count": 139,
   "id": "0c92b81d",
   "metadata": {
    "scrolled": true
   },
   "outputs": [],
   "source": [
    "def xi(x,k,d):\n",
    "    return x*k +d\n",
    "def p_q_change(x):\n",
    "    return 0.5 + 0.5 * np.cos(np.pi / 2 * x)"
   ]
  },
  {
   "cell_type": "code",
   "execution_count": 140,
   "id": "1cd9f84f",
   "metadata": {},
   "outputs": [],
   "source": [
    "def plot_triaxial_ellipsoid_const(p1, e1):\n",
    "    \n",
    "    a = 2.0  \n",
    "    b = 1  \n",
    "    c = 1  #\n",
    "\n",
    "    # Define the grid of points\n",
    "    x_range = np.linspace(-a, a, 100)\n",
    "    y_range = np.linspace(-b, b, 100)\n",
    "    z_range = 0\n",
    "\n",
    "    x_grid, y_grid = np.meshgrid(x_range, y_range)\n",
    "\n",
    "\n",
    "    p = p1\n",
    "    q = 1 #c/a\n",
    "    e= e1\n",
    "    \n",
    "    R_squared_e = (np.abs(x_grid)**(2 - e) + (np.abs(y_grid) / p)**(2 - e) + (np.abs(z) / q)**(2 - e))\n",
    "\n",
    "    # Create the contour plot\n",
    "    plt.figure(figsize=(8, 6))\n",
    "    contour = plt.contour(x_grid, y_grid, R_squared_e, levels=10, colors='b')\n",
    "    plt.clabel(contour, inline=1, fontsize=10)\n",
    "    plt.title('Contour Plot of Triaxial Ellipsoid')\n",
    "    plt.xlabel('X-axis')\n",
    "    plt.ylabel('Y-axis')\n",
    "    plt.gca().set_aspect('equal', adjustable='box')\n",
    "    #plt.show()\n",
    "    \n",
    "\n",
    "p_slider = widgets.FloatSlider(value=1, min=0.2, max=1, step=0.2, description='p:')\n",
    "e_slider = widgets.FloatSlider(value=0, min=-1, max=1, step=0.2, description='e:')\n"
   ]
  },
  {
   "cell_type": "code",
   "execution_count": 141,
   "id": "1f6e588a",
   "metadata": {
    "scrolled": true
   },
   "outputs": [
    {
     "data": {
      "application/vnd.jupyter.widget-view+json": {
       "model_id": "d71a96e2a30a476f8dfcce66f426f3a1",
       "version_major": 2,
       "version_minor": 0
      },
      "text/plain": [
       "interactive(children=(FloatSlider(value=1.0, description='p:', max=1.0, min=0.2, step=0.2), FloatSlider(value=…"
      ]
     },
     "metadata": {},
     "output_type": "display_data"
    }
   ],
   "source": [
    "interactive_plot = interactive(plot_triaxial_ellipsoid_const, p1=p_slider, e1=e_slider)\n",
    "display(interactive_plot)"
   ]
  },
  {
   "cell_type": "code",
   "execution_count": 142,
   "id": "27282f4a",
   "metadata": {},
   "outputs": [],
   "source": [
    "\n",
    "\n",
    "def plot_triaxial_ellipsoid_linear_sigmoid(k_pq, k_e, d_e):\n",
    "    \n",
    "    a = 2.0 \n",
    "    b = 1  \n",
    "    c = 1  \n",
    "\n",
    "    # Define the grid of points\n",
    "    x_range = np.linspace(-a, a, 100)\n",
    "    y_range = np.linspace(-b, b, 100)\n",
    "    z = 0\n",
    "\n",
    "    x_grid, y_grid = np.meshgrid(x_range, y_range)\n",
    "\n",
    "\n",
    "    p = p_q_change(x_grid,k_pq) #b/a\n",
    "    q = 1 #c/a\n",
    "    e= xi(x_grid,k_e,d_e)\n",
    "\n",
    "    \n",
    "    R_squared_e = (np.abs(x_grid)**(2 - e) + (np.abs(y_grid) / p)**(2 - e) + (np.abs(z) / q)**(2 - e))\n",
    "\n",
    "    # Create the contour plot\n",
    "    plt.figure(figsize=(8, 6))\n",
    "    contour = plt.contour(x_grid, y_grid, R_squared_e, levels=10, colors='b')\n",
    "    plt.clabel(contour, inline=1, fontsize=10)\n",
    "    plt.title('Contour Plot of Triaxial Ellipsoid')\n",
    "    plt.xlabel('X-axis')\n",
    "    plt.ylabel('Y-axis')\n",
    "    plt.gca().set_aspect('equal', adjustable='box')\n",
    "    plt.show()\n",
    "    \n",
    "\n",
    "k_pq_slider = widgets.FloatSlider(value=0.0, min=-1, max=1, step=0.2, description='k_pq:')\n",
    "k_e_slider = widgets.FloatSlider(value=0, min=-1, max=1, step=0.2, description='k_e:')\n",
    "d_e_slider = widgets.FloatSlider(value=0, min=-1, max=1, step=0.2, description='d_e:')\n"
   ]
  },
  {
   "cell_type": "code",
   "execution_count": 143,
   "id": "bc57808f",
   "metadata": {},
   "outputs": [
    {
     "data": {
      "application/vnd.jupyter.widget-view+json": {
       "model_id": "92df75108285410280218331dcaea7e7",
       "version_major": 2,
       "version_minor": 0
      },
      "text/plain": [
       "interactive(children=(FloatSlider(value=0.0, description='k_pq:', max=1.0, min=-1.0, step=0.2), FloatSlider(va…"
      ]
     },
     "metadata": {},
     "output_type": "display_data"
    }
   ],
   "source": [
    "interactive_plot = interactive(plot_triaxial_ellipsoid_linear_sigmoid, k_pq=k_pq_slider, k_e=k_e_slider, d_e=d_e_slider)\n",
    "display(interactive_plot)"
   ]
  },
  {
   "cell_type": "code",
   "execution_count": null,
   "id": "ee6f3627",
   "metadata": {},
   "outputs": [],
   "source": []
  }
 ],
 "metadata": {
  "kernelspec": {
   "display_name": "Python 3 (ipykernel)",
   "language": "python",
   "name": "python3"
  },
  "language_info": {
   "codemirror_mode": {
    "name": "ipython",
    "version": 3
   },
   "file_extension": ".py",
   "mimetype": "text/x-python",
   "name": "python",
   "nbconvert_exporter": "python",
   "pygments_lexer": "ipython3",
   "version": "3.8.16"
  }
 },
 "nbformat": 4,
 "nbformat_minor": 5
}
