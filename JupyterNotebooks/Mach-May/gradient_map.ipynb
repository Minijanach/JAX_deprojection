{
 "cells": [
  {
   "cell_type": "code",
   "execution_count": 1,
   "metadata": {
    "metadata": {}
   },
   "outputs": [],
   "source": [
    "import numpy as np\n",
    "import matplotlib.pyplot as plt\n",
    "import matplotlib.colors as colors\n",
    "import jax.numpy as jnp\n",
    "from jax import grad\n",
    "from matplotlib.colors import LogNorm\n",
    "import matplotlib.pyplot as plt\n",
    "from ipywidgets import interact, IntSlider"
   ]
  },
  {
   "cell_type": "code",
   "execution_count": 2,
   "metadata": {
    "metadata": {}
   },
   "outputs": [],
   "source": [
    "def rho(x,y,z,e,p,q,rho0,s,a,b):\n",
    "    \"\"\"\n",
    "    Calculate density value based on input coordinates and parameters.\n",
    "\n",
    "    Parameters:\n",
    "    x (float or array-like): x-coordinate(s) of the point(s).\n",
    "    y (float or array-like): y-coordinate(s) of the point(s).\n",
    "    z (float or array-like): z-coordinate(s) of the point(s).\n",
    "    e (float): Parameter describing the disky/boxiness of the triaxial body.\n",
    "    p (float): Axis ratio b/a.\n",
    "    q (float): Axis ratio c/a.\n",
    "    rho0 (float): Normalization parameter for density.\n",
    "    s (float): Scale radius.\n",
    "    a (float): Power-law exponent.\n",
    "    b (float): Power-law exponent.\n",
    "\n",
    "    Returns:\n",
    "    float or array-like: Density value(s) at the given coordinates.\n",
    "\n",
    "    Formula:\n",
    "    The function calculates density value(s) based on the input coordinates (x, y, z) and parameters (e, p, q, rho0, s, a, b)\n",
    "    using the following formula:\n",
    "\n",
    "        r = ((|x|^(2 - e) + (|y| / p)^(2 - e) + (|z| / q)^(2 - e)))^(1/(2-e))\n",
    "        rho = rho0 / ((r / s)^a * (1 + (r / s))^(b - a))\n",
    "\n",
    "    where:\n",
    "        |x|, |y|, |z|: Absolute values of the coordinates.\n",
    "        e: Exponent parameter.\n",
    "        p, q: Scaling parameters for x and y coordinates.\n",
    "        rho0: Normalization parameter for density.\n",
    "        s: Scaling parameter for distance.\n",
    "        a, b: Shape parameters.\n",
    "        r: Distance metric calculated based on the input coordinates.\n",
    "        rho: Density value calculated based on the input parameters and coordinates.\n",
    "    \"\"\"\n",
    "    r = ((jnp.abs(x)**(2 - e) + (jnp.abs(y) / p)**(2 - e) + (jnp.abs(z) / q)**(2 - e)))**(1/(2-e))\n",
    "    den = rho0 / ((r/s)**a*(1+(r/s))**(b-a))\n",
    "    #den = np.round(den, decimals=6)\n",
    "    return den"
   ]
  },
  {
   "cell_type": "code",
   "execution_count": 3,
   "metadata": {
    "metadata": {}
   },
   "outputs": [],
   "source": [
    "def projection(density_mat):\n",
    "    \"\"\"\n",
    "    Returns the 2D projection of a 3D density matrix along the z-axis.\n",
    "\n",
    "    Parameters:\n",
    "    - density_mat (numpy.ndarray): The 3D density matrix representing the density distribution.\n",
    "                                   The shape of the matrix should be (M, N, K), where M, N, and K\n",
    "                                   are the dimensions along the x, y, and z axes respectively.\n",
    "\n",
    "    Returns:\n",
    "    float or array-like: Projected Density value(s) along the z-axis.\n",
    "\n",
    "    This function calculates the projection of the given density matrix along the z-axis,\n",
    "    summing up the values along the z-axis to produce a 2D array. \n",
    "    \"\"\"\n",
    "    projection_z_axis = jnp.sum(density_mat, axis = 2)\n",
    "    return projection_z_axis"
   ]
  },
  {
   "cell_type": "code",
   "execution_count": 4,
   "metadata": {
    "metadata": {}
   },
   "outputs": [],
   "source": [
    "def plot_img(proj_density_mat):\n",
    "    \"\"\"\n",
    "    Plot a 2D image with a logarithmically scaled colour bar.\n",
    "\n",
    "    Parameters:\n",
    "    - proj_density_mat (numpy.ndarray): The 2D density matrix representing the density distribution projected along the z-axis.\n",
    "                                   \n",
    "\n",
    "    Returns:\n",
    "    None\n",
    "\n",
    "    This function uses Plotly matplotlib\n",
    "    to create and display an image plot of the projected density with a logarithmically scaled colour bar..\n",
    "    \"\"\"\n",
    "    plt.imshow(proj_density_mat)\n",
    "    plt.colorbar(label='Color Scale (log)')\n",
    "    plt.show()"
   ]
  },
  {
   "cell_type": "code",
   "execution_count": 5,
   "metadata": {
    "metadata": {}
   },
   "outputs": [],
   "source": [
    "s = 1. \n",
    "e = 0.\n",
    "p = 0.8\n",
    "q = 0.6\n",
    "a = 2.\n",
    "b = 4.\n",
    "rho0 = 0.001\n",
    "\n",
    "\n",
    "# Define the size of your 3D matrix\n",
    "x_size, y_size, z_size = 10, 10, 10\n",
    "\n",
    "# Create 3D coordinates\n",
    "x, y, z = np.meshgrid(np.linspace(-0.01, 0.01, x_size),\n",
    "                      np.linspace(-0.01, 0.01, y_size),\n",
    "                      np.linspace(-0.01, 0.01, z_size))"
   ]
  },
  {
   "cell_type": "code",
   "execution_count": 6,
   "metadata": {
    "metadata": {}
   },
   "outputs": [],
   "source": [
    "densities = np.zeros((x_size, y_size, z_size))\n",
    "gradients = np.zeros((x_size, y_size, z_size,10))\n",
    "\n",
    "grad_rho = grad(rho,argnums=(0,1,2,3,4,5,6,7,8,9))\n",
    "\n",
    "for i in range(x_size):\n",
    "    for j in range(y_size):\n",
    "        for k in range(z_size):\n",
    "            x_val, y_val, z_val = x[i, j, k], y[i, j, k], z[i, j, k]\n",
    "            # Compute the density using rho_projected for each scalar x, y, z value\n",
    "            densities[i, j, k] = rho(x_val, y_val, z_val, e, p, q, rho0, s, a, b)\n",
    "            for l in range(10):\n",
    "                # Compute the gradient using grad_rho_projected for each scalar x, y, z value\n",
    "                gradients[i, j, k,l] = grad_rho(x_val, y_val, z_val, e, p, q, rho0, s, a, b)[l]"
   ]
  },
  {
   "cell_type": "code",
   "execution_count": 7,
   "metadata": {
    "metadata": {}
   },
   "outputs": [],
   "source": [
    "name_param = ['x','y','z','e','p','q','rho0','s','a','b']\n",
    "\n",
    "def plot_image_z(index,param):\n",
    "    plt.imshow(gradients[:,:,index,param])\n",
    "    plt.axis('off')\n",
    "    plt.title('Gradient drho/d'+name_param[param]+' along the z-axis')\n",
    "    plt.show()\n",
    "\n",
    "def plot_image_x(index,param):\n",
    "    plt.imshow(gradients[:,index,:,param])\n",
    "    plt.axis('off')\n",
    "    plt.title('Gradient drho/d'+name_param[param]+' along the x-axis')\n",
    "    plt.show()\n",
    "\n",
    "def plot_image_y(index,param):\n",
    "    plt.imshow(gradients[index,:,:,param])\n",
    "    plt.axis('off')\n",
    "    plt.title('Gradient drho/d'+name_param[param]+' along the y-axis')\n",
    "    plt.show()\n"
   ]
  },
  {
   "cell_type": "code",
   "execution_count": 8,
   "metadata": {
    "metadata": {}
   },
   "outputs": [
    {
     "data": {
      "application/vnd.jupyter.widget-view+json": {
       "model_id": "93767dbcba094c4c931ea5527aad99da",
       "version_major": 2,
       "version_minor": 0
      },
      "text/plain": [
       "interactive(children=(IntSlider(value=0, description='index', max=9), IntSlider(value=0, description='param', …"
      ]
     },
     "metadata": {},
     "output_type": "display_data"
    },
    {
     "data": {
      "text/plain": [
       "<function __main__.plot_image_x(index, param)>"
      ]
     },
     "execution_count": 8,
     "metadata": {},
     "output_type": "execute_result"
    }
   ],
   "source": [
    "interact(plot_image_x, index=IntSlider(min=0, max=9, step=1, value=0),param = IntSlider(min=0, max=9, step=1, value=0))"
   ]
  },
  {
   "cell_type": "code",
   "execution_count": 9,
   "metadata": {
    "metadata": {}
   },
   "outputs": [
    {
     "data": {
      "application/vnd.jupyter.widget-view+json": {
       "model_id": "236b13970f4044f787a4ca2c1a8c5503",
       "version_major": 2,
       "version_minor": 0
      },
      "text/plain": [
       "interactive(children=(IntSlider(value=0, description='index', max=9), IntSlider(value=0, description='param', …"
      ]
     },
     "metadata": {},
     "output_type": "display_data"
    },
    {
     "data": {
      "text/plain": [
       "<function __main__.plot_image_y(index, param)>"
      ]
     },
     "execution_count": 9,
     "metadata": {},
     "output_type": "execute_result"
    }
   ],
   "source": [
    "interact(plot_image_y, index=IntSlider(min=0, max=9, step=1, value=0),param = IntSlider(min=0, max=9, step=1, value=0))"
   ]
  },
  {
   "cell_type": "code",
   "execution_count": 10,
   "metadata": {
    "metadata": {}
   },
   "outputs": [
    {
     "data": {
      "application/vnd.jupyter.widget-view+json": {
       "model_id": "9d87a55de32a4536bf588e740b4f1e42",
       "version_major": 2,
       "version_minor": 0
      },
      "text/plain": [
       "interactive(children=(IntSlider(value=0, description='index', max=9), IntSlider(value=0, description='param', …"
      ]
     },
     "metadata": {},
     "output_type": "display_data"
    },
    {
     "data": {
      "text/plain": [
       "<function __main__.plot_image_z(index, param)>"
      ]
     },
     "execution_count": 10,
     "metadata": {},
     "output_type": "execute_result"
    }
   ],
   "source": [
    "interact(plot_image_z, index=IntSlider(min=0, max=9, step=1, value=0),param = IntSlider(min=0, max=9, step=1, value=0))"
   ]
  }
 ],
 "metadata": {
  "kernelspec": {
   "display_name": "new_env",
   "language": "python",
   "name": "python3"
  },
  "language_info": {
   "codemirror_mode": {
    "name": "ipython",
    "version": 3
   },
   "file_extension": ".py",
   "mimetype": "text/x-python",
   "name": "python",
   "nbconvert_exporter": "python",
   "pygments_lexer": "ipython3",
   "version": "3.11.7"
  }
 },
 "nbformat": 4,
 "nbformat_minor": 2
}
